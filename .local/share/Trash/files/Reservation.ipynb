{
 "cells": [
  {
   "cell_type": "code",
   "execution_count": 1,
   "metadata": {
    "id": "mhIuTytsGyp2"
   },
   "outputs": [],
   "source": [
    "#nbi:hide_in\n",
    "#nbi:hide_out\n",
    "from ipywidgets import widgets"
   ]
  },
  {
   "cell_type": "markdown",
   "metadata": {
    "id": "M5ft_BLKHvnO"
   },
   "source": [
    "# Réservation pour le spectacle Danse-Etudes"
   ]
  },
  {
   "cell_type": "markdown",
   "metadata": {
    "id": "jGDes14yJA_m"
   },
   "source": [
    "## Réservation pour le lundi 20 Septembre 2021"
   ]
  },
  {
   "cell_type": "markdown",
   "metadata": {
    "id": "necfRo00QW8o"
   },
   "source": [
    "[Réservation Lundi](https://docs.google.com/forms/d/1z84kxiaElPnD7MMZdTRf70KPnxItF_aDCMqcISfBALY/edit)"
   ]
  }
 ],
 "metadata": {
  "colab": {
   "name": "Essai_representation_DE.ipynb",
   "provenance": []
  },
  "kernelspec": {
   "display_name": "Python 3",
   "language": "python",
   "name": "python3"
  },
  "language_info": {
   "codemirror_mode": {
    "name": "ipython",
    "version": 3
   },
   "file_extension": ".py",
   "mimetype": "text/x-python",
   "name": "python",
   "nbconvert_exporter": "python",
   "pygments_lexer": "ipython3",
   "version": "3.7.10"
  }
 },
 "nbformat": 4,
 "nbformat_minor": 4
}
