{
  "nbformat": 4,
  "nbformat_minor": 0,
  "metadata": {
    "colab": {
      "name": "Reservation.ipynb",
      "provenance": []
    },
    "kernelspec": {
      "name": "python3",
      "display_name": "Python 3",
      "language": "python"
    },
    "language_info": {
      "name": "python",
      "version": "3.7.10",
      "mimetype": "text/x-python",
      "codemirror_mode": {
        "name": "ipython",
        "version": 3
      },
      "pygments_lexer": "ipython3",
      "nbconvert_exporter": "python",
      "file_extension": ".py"
    }
  },
  "cells": [
    {
      "cell_type": "markdown",
      "metadata": {
        "id": "M5ft_BLKHvnO"
      },
      "source": [
        "# Réservation pour le spectacle Danse-Etudes"
      ]
    },
    {
      "cell_type": "markdown",
      "metadata": {
        "id": "jGDes14yJA_m"
      },
      "source": [
        "## Réservation pour le lundi 20 Septembre 2021"
      ]
    },
    {
      "cell_type": "markdown",
      "metadata": {
        "id": "necfRo00QW8o"
      },
      "source": [
        "[Réservation Lundi](https://docs.google.com/forms/d/1z84kxiaElPnD7MMZdTRf70KPnxItF_aDCMqcISfBALY/edit)"
      ]
    },
    {
      "cell_type": "markdown",
      "metadata": {
        "id": "C8Er7ooLbVZw"
      },
      "source": [
        "## Réservation pour le mercredi 22 Septembre 2021"
      ]
    },
    {
      "cell_type": "markdown",
      "metadata": {
        "id": "41DcbvtRbVZy"
      },
      "source": [
        "[Réservation Mercredi](https://docs.google.com/forms/d/1jSV-JdpC6eBS2KGRoX3O6sc-3J88mShwrShYwLgF9iY/edit)"
      ]
    },
    {
      "cell_type": "markdown",
      "metadata": {
        "id": "4HwseV7wbVZz"
      },
      "source": [
        "## Réservation pour le jeudi 23 Septembre 2021"
      ]
    },
    {
      "cell_type": "markdown",
      "metadata": {
        "id": "jvnxNm47bVZ0"
      },
      "source": [
        "[Réservation Jeudi](https://docs.google.com/forms/d/1g8tW_XNFnGgFKg4oZjR5iENmwWDG8irt1hB9362Gw7o/edit?usp=drive_web)"
      ]
    },
    {
      "cell_type": "markdown",
      "metadata": {
        "tags": [],
        "id": "fyr6ncklbVZ1"
      },
      "source": [
        "## Réservation pour le vendredi 24 Septembre 2021"
      ]
    },
    {
      "cell_type": "markdown",
      "metadata": {
        "id": "rggxUCk3bVZ2"
      },
      "source": [
        "[Réservation Vendredi](https://docs.google.com/forms/d/1SQE7PBk7MjNogCbxj9SBZ7UJMpmxUcM0n2LH3O7UKOU/edit?usp=drive_web)"
      ]
    }
  ]
}