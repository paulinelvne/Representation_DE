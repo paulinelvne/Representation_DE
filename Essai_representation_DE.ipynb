{
  "nbformat": 4,
  "nbformat_minor": 0,
  "metadata": {
    "colab": {
      "name": "Essai_representation_DE.ipynb",
      "provenance": []
    },
    "kernelspec": {
      "name": "python3",
      "display_name": "Python 3"
    },
    "language_info": {
      "name": "python"
    }
  },
  "cells": [
    {
      "cell_type": "code",
      "metadata": {
        "id": "mhIuTytsGyp2"
      },
      "source": [
        "#nbi:hide_in\n",
        "#nbi:hide_out\n",
        "from ipywidgets import widgets"
      ],
      "execution_count": 1,
      "outputs": []
    },
    {
      "cell_type": "markdown",
      "metadata": {
        "id": "M5ft_BLKHvnO"
      },
      "source": [
        "# Réservation pour le spectacle Danse-Etudes"
      ]
    },
    {
      "cell_type": "markdown",
      "metadata": {
        "id": "jGDes14yJA_m"
      },
      "source": [
        "## Réservation pour le lundi 20 Septembre 2021"
      ]
    },
    {
      "cell_type": "markdown",
      "metadata": {
        "id": "necfRo00QW8o"
      },
      "source": [
        "[Réservation Lundi](https://docs.google.com/forms/d/1z84kxiaElPnD7MMZdTRf70KPnxItF_aDCMqcISfBALY/edit)"
      ]
    }
  ]
}